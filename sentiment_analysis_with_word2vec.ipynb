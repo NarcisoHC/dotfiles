{
  "nbformat": 4,
  "nbformat_minor": 0,
  "metadata": {
    "kernelspec": {
      "display_name": "Python 3",
      "language": "python",
      "name": "python3"
    },
    "language_info": {
      "codemirror_mode": {
        "name": "ipython",
        "version": 3
      },
      "file_extension": ".py",
      "mimetype": "text/x-python",
      "name": "python",
      "nbconvert_exporter": "python",
      "pygments_lexer": "ipython3",
      "version": "3.8.6"
    },
    "toc": {
      "base_numbering": 1,
      "nav_menu": {},
      "number_sections": false,
      "sideBar": true,
      "skip_h1_title": false,
      "title_cell": "Table of Contents",
      "title_sidebar": "Contents",
      "toc_cell": false,
      "toc_position": {},
      "toc_section_display": true,
      "toc_window_display": true
    },
    "colab": {
      "name": "sentiment-analysis-with-word2vec.ipynb",
      "provenance": [],
      "collapsed_sections": [],
      "include_colab_link": true
    },
    "accelerator": "GPU"
  },
  "cells": [
    {
      "cell_type": "markdown",
      "metadata": {
        "id": "view-in-github",
        "colab_type": "text"
      },
      "source": [
        "<a href=\"https://colab.research.google.com/github/NarcisoHC/dotfiles/blob/master/sentiment_analysis_with_word2vec.ipynb\" target=\"_parent\"><img src=\"https://colab.research.google.com/assets/colab-badge.svg\" alt=\"Open In Colab\"/></a>"
      ]
    },
    {
      "cell_type": "markdown",
      "metadata": {
        "id": "ZFFeBrna4zkw"
      },
      "source": [
        "# Sentiment analysis with Word2Vec\n",
        "\n",
        "### Exercise objectives:\n",
        "- Convert words to vectors with Word2Vec\n",
        "- Use the word representation given by Word2vec to feed a RNN\n",
        "\n",
        "<hr>\n",
        "<hr>\n",
        "\n",
        "\n",
        "# The data\n",
        "\n",
        "\n",
        "❓ **Question** ❓ Let's first load the data. You don't have to understand what is going on in the function, it does not matter here.\n",
        "\n",
        "⚠️ **Warning** ⚠️ The `load_data` function has a `percentage_of_sentences` argument. Depending on your computer, there are chances that a too large number of sentences will make your compute slow down, or even freeze - your RAM can even overflow. For that reason, **you should start with 10% of the sentences** and see if your computer handles it. Otherwise, rerun with a lower number. \n",
        "\n",
        "⚠️ **DISCLAIMER** ⚠️ **No need to play _who has the biggest_ (RAM) !** The idea is to get to run your models quickly to prototype. Even in real life, it is recommended that you start with a subset of your data to loop and debug quickly. So increase the number only if you are into getting the best accuracy."
      ]
    },
    {
      "cell_type": "code",
      "metadata": {
        "id": "meQ1Mevd4zk1"
      },
      "source": [
        "###########################################\n",
        "### Just run this cell to load the data ###\n",
        "###########################################\n",
        "\n",
        "import tensorflow_datasets as tfds\n",
        "from tensorflow.keras.preprocessing.text import text_to_word_sequence\n",
        "\n",
        "def load_data(percentage_of_sentences=None):\n",
        "    train_data, test_data = tfds.load(name=\"imdb_reviews\", split=[\"train\", \"test\"], batch_size=-1, as_supervised=True)\n",
        "\n",
        "    train_sentences, y_train = tfds.as_numpy(train_data)\n",
        "    test_sentences, y_test = tfds.as_numpy(test_data)\n",
        "    \n",
        "    # Take only a given percentage of the entire data\n",
        "    if percentage_of_sentences is not None:\n",
        "        assert(percentage_of_sentences> 0 and percentage_of_sentences<=100)\n",
        "        \n",
        "        len_train = int(percentage_of_sentences/100*len(train_sentences))\n",
        "        train_sentences, y_train = train_sentences[:len_train], y_train[:len_train]\n",
        "  \n",
        "        len_test = int(percentage_of_sentences/100*len(test_sentences))\n",
        "        test_sentences, y_test = test_sentences[:len_test], y_test[:len_test]\n",
        "    \n",
        "    X_train = [text_to_word_sequence(_.decode(\"utf-8\")) for _ in train_sentences]\n",
        "    X_test = [text_to_word_sequence(_.decode(\"utf-8\")) for _ in test_sentences]\n",
        "    \n",
        "    return X_train, y_train, X_test, y_test\n",
        "\n",
        "X_train, y_train, X_test, y_test = load_data(percentage_of_sentences=10)"
      ],
      "execution_count": 5,
      "outputs": []
    },
    {
      "cell_type": "markdown",
      "metadata": {
        "id": "_5rGtxaN4zk4"
      },
      "source": [
        "In the previous exercise, you trained a Word2vec representation and converted all your training sentences in order to feed them into a RNN, as shown in the first step of this Figure : \n",
        "\n",
        "<img src=\"word2vec_representation.png\" width=\"400px\" />\n",
        "\n",
        "\n",
        "\n",
        "❓ **Question** ❓ Here, let's re-do exactly what you have done in the previous exercise. First, train a word2vec model (with the arguments that you want) on your training sentence. Store it into the `word2vec` variable."
      ]
    },
    {
      "cell_type": "code",
      "metadata": {
        "tags": [
          "challengify"
        ],
        "id": "CYum1sYt4zk5"
      },
      "source": [
        "from gensim.models import Word2Vec\n",
        "\n",
        "word2vec = Word2Vec(sentences=X_train, min_count=3, window=8)"
      ],
      "execution_count": 7,
      "outputs": []
    },
    {
      "cell_type": "code",
      "metadata": {
        "colab": {
          "base_uri": "https://localhost:8080/"
        },
        "id": "RvOeYxRC50pZ",
        "outputId": "14d3daf9-21de-4839-f1f0-f1c1395c4fc5"
      },
      "source": [
        "word2vec.wv['dog'].shape"
      ],
      "execution_count": 10,
      "outputs": [
        {
          "output_type": "execute_result",
          "data": {
            "text/plain": [
              "(100,)"
            ]
          },
          "metadata": {
            "tags": []
          },
          "execution_count": 10
        }
      ]
    },
    {
      "cell_type": "markdown",
      "metadata": {
        "id": "Iq0BEkgb4zk6"
      },
      "source": [
        "Let's reuse the functions of the previous exercise to convert your training and test data into something you can fed into a RNN.\n",
        "\n",
        "❓ **Question** ❓ Read the following function to be sure you understand what is going on, and run it."
      ]
    },
    {
      "cell_type": "code",
      "metadata": {
        "id": "jR2AfShM4zk6"
      },
      "source": [
        "from tensorflow.keras.preprocessing.sequence import pad_sequences\n",
        "import numpy as np\n",
        "\n",
        "# Function to convert a sentence (list of words) into a matrix representing the words in the embedding space\n",
        "def embed_sentence(word2vec, sentence):\n",
        "    embedded_sentence = []\n",
        "    for word in sentence:\n",
        "        if word in word2vec.wv:\n",
        "            embedded_sentence.append(word2vec.wv[word])\n",
        "        \n",
        "    return np.array(embedded_sentence)\n",
        "\n",
        "# Function that converts a list of sentences into a list of matrices\n",
        "def embedding(word2vec, sentences):\n",
        "    embed = []\n",
        "    \n",
        "    for sentence in sentences:\n",
        "        embedded_sentence = embed_sentence(word2vec, sentence)\n",
        "        embed.append(embedded_sentence)\n",
        "        \n",
        "    return embed\n",
        "\n",
        "# Embed the training and test sentences\n",
        "X_train_embed = embedding(word2vec, X_train)\n",
        "X_test_embed = embedding(word2vec, X_test)\n",
        "\n",
        "\n",
        "# Pad the training and test embedded sentence"
      ],
      "execution_count": 11,
      "outputs": []
    },
    {
      "cell_type": "code",
      "metadata": {
        "id": "VoiuUHkG4zk7"
      },
      "source": [
        "X_train_pad = pad_sequences(X_train_embed, dtype='float32', padding='post', maxlen=200, value=-1000)\n",
        "X_test_pad = pad_sequences(X_test_embed, dtype='float32', padding='post', maxlen=200, value=-1000)"
      ],
      "execution_count": 12,
      "outputs": []
    },
    {
      "cell_type": "markdown",
      "metadata": {
        "id": "2wN1ZzPo4zk7"
      },
      "source": [
        "☝️ To be sure that it worked, let's check the following for `X_train_pad` and `X_test_pad` :\n",
        "- they are numpy arrays\n",
        "- they are 3-dimensional\n",
        "- the last dimension is of the size of your word2vec embedding space (you can get it with `word2vec.wv.vector_size`\n",
        "- the first dimension is of the size of your `X_train` and `X_test`\n",
        "\n",
        "✅ **Good Practice** ✅ Such tests are quite important! Not only in this exercise, but in real-life applications. It prevents from searching at errors too late and from letting them propagate through the entire notebook."
      ]
    },
    {
      "cell_type": "code",
      "metadata": {
        "id": "J5s8MVXX4zk-"
      },
      "source": [
        "# TEST ME\n",
        "for X in [X_train_pad, X_test_pad]:\n",
        "    assert type(X) == np.ndarray\n",
        "    assert X.shape[-1] == word2vec.wv.vector_size\n",
        "\n",
        "\n",
        "assert X_train_pad.shape[0] == len(X_train)\n",
        "assert X_test_pad.shape[0] == len(X_test)"
      ],
      "execution_count": 13,
      "outputs": []
    },
    {
      "cell_type": "markdown",
      "metadata": {
        "id": "H3VsVc9e4zk_"
      },
      "source": [
        "# Baseline model\n",
        "\n",
        "It is always good to have a very simple model to test your own model against - to be sure you do something better than a very simple algorithm.\n",
        "\n",
        "❓ **Question** ❓ What is your baseline accuracy? In this case, your baseline can be to predict the label that is the most present in `y_train` (of course, if the dataset is balanced, the baseline accuracy is 1/n where n is the number of classes - 2 here)."
      ]
    },
    {
      "cell_type": "code",
      "metadata": {
        "id": "RIJSTRWu4zlA"
      },
      "source": [
        "ones = y_train.sum()\n",
        "zeros = y_train.shape[0]-ones"
      ],
      "execution_count": 14,
      "outputs": []
    },
    {
      "cell_type": "code",
      "metadata": {
        "colab": {
          "base_uri": "https://localhost:8080/"
        },
        "id": "KsipCH_a4zlB",
        "outputId": "17ef41c4-b89d-481d-bf83-7e597ac9930a"
      },
      "source": [
        "freqones = ones/y_train.shape[0]\n",
        "freqzer = zeros/y_train.shape[0]\n",
        "print(f'FREQUENCIES: ones= {freqones}, zeroes={freqzer}')"
      ],
      "execution_count": 15,
      "outputs": [
        {
          "output_type": "stream",
          "text": [
            "FREQUENCIES: ones= 0.494, zeroes=0.506\n"
          ],
          "name": "stdout"
        }
      ]
    },
    {
      "cell_type": "markdown",
      "metadata": {
        "id": "GuWLPHXE4zlC"
      },
      "source": [
        "# The model\n",
        "\n",
        "❓ **Question** ❓ Write a RNN with the following layers:\n",
        "- a `Masking` layer\n",
        "- a `LSTM` with 20 units and `tanh` activation function\n",
        "- a `Dense` with 10 units\n",
        "- an output layer that depends on your task\n",
        "\n",
        "Then, compile your model (we advise you to use the `rmsprop` as the optimizer - at least to begin with)"
      ]
    },
    {
      "cell_type": "code",
      "metadata": {
        "tags": [
          "challengify"
        ],
        "id": "ecDikA2M4zlC"
      },
      "source": [
        "from tensorflow.keras import models\n",
        "from tensorflow.keras import layers\n",
        "from tensorflow.keras.layers import Masking\n",
        "\n",
        "def init_model(): \n",
        "    model = models.Sequential()\n",
        "    model.add(Masking(mask_value=-1000))\n",
        "    model.add(layers.LSTM(20, activation='tanh'))\n",
        "    model.add(layers.Dense(10, activation='relu'))\n",
        "    model.add(layers.Dense(1, activation='sigmoid'))\n",
        "    model.compile(optimizer='rmsprop', loss='binary_crossentropy', metrics='accuracy')\n",
        "    return model"
      ],
      "execution_count": 16,
      "outputs": []
    },
    {
      "cell_type": "code",
      "metadata": {
        "colab": {
          "base_uri": "https://localhost:8080/"
        },
        "id": "Lbh0jKnE4zlD",
        "outputId": "a2cec2f2-e3ee-4f93-991c-6632396c7e4a"
      },
      "source": [
        "from tensorflow.keras.callbacks import EarlyStopping\n",
        "es = EarlyStopping(patience=5, restore_best_weights=True)\n",
        "\n",
        "model = init_model()\n",
        "model.fit(X_train_pad, y_train, epochs=10, batch_size=64, validation_split=0.3, callbacks=[es])"
      ],
      "execution_count": 18,
      "outputs": [
        {
          "output_type": "stream",
          "text": [
            "Epoch 1/10\n",
            "28/28 [==============================] - 6s 63ms/step - loss: 0.6941 - accuracy: 0.5388 - val_loss: 0.6790 - val_accuracy: 0.6013\n",
            "Epoch 2/10\n",
            "28/28 [==============================] - 1s 20ms/step - loss: 0.6800 - accuracy: 0.5787 - val_loss: 0.6794 - val_accuracy: 0.5733\n",
            "Epoch 3/10\n",
            "28/28 [==============================] - 1s 20ms/step - loss: 0.6708 - accuracy: 0.5987 - val_loss: 0.6601 - val_accuracy: 0.6147\n",
            "Epoch 4/10\n",
            "28/28 [==============================] - 1s 20ms/step - loss: 0.6656 - accuracy: 0.6030 - val_loss: 0.6557 - val_accuracy: 0.6213\n",
            "Epoch 5/10\n",
            "28/28 [==============================] - 1s 19ms/step - loss: 0.6484 - accuracy: 0.6339 - val_loss: 0.7118 - val_accuracy: 0.5093\n",
            "Epoch 6/10\n",
            "28/28 [==============================] - 1s 19ms/step - loss: 0.6515 - accuracy: 0.6176 - val_loss: 0.6655 - val_accuracy: 0.6067\n",
            "Epoch 7/10\n",
            "28/28 [==============================] - 1s 19ms/step - loss: 0.6482 - accuracy: 0.6238 - val_loss: 0.6354 - val_accuracy: 0.6520\n",
            "Epoch 8/10\n",
            "28/28 [==============================] - 1s 19ms/step - loss: 0.6361 - accuracy: 0.6389 - val_loss: 0.6334 - val_accuracy: 0.6493\n",
            "Epoch 9/10\n",
            "28/28 [==============================] - 1s 20ms/step - loss: 0.6346 - accuracy: 0.6387 - val_loss: 0.6726 - val_accuracy: 0.5920\n",
            "Epoch 10/10\n",
            "28/28 [==============================] - 1s 19ms/step - loss: 0.6325 - accuracy: 0.6498 - val_loss: 0.6818 - val_accuracy: 0.5933\n"
          ],
          "name": "stdout"
        },
        {
          "output_type": "execute_result",
          "data": {
            "text/plain": [
              "<tensorflow.python.keras.callbacks.History at 0x7f8d6ad25090>"
            ]
          },
          "metadata": {
            "tags": []
          },
          "execution_count": 18
        }
      ]
    },
    {
      "cell_type": "markdown",
      "metadata": {
        "id": "pfzcjdYZ4zlE"
      },
      "source": [
        "❓ **Question** ❓ Fit the model on your embedded and padded data - do not forget the early stopping criterion.\n",
        "\n",
        "❗ **Remark** ❗ Your accuracy with greatly depend on your training test corpus. Here just make sure that your performance is above the baseline model (which should be the case even if you loaded only 20% of the initial IMDB data)."
      ]
    },
    {
      "cell_type": "code",
      "metadata": {
        "tags": [
          "challengify"
        ],
        "id": "RZO0L00y4zlE"
      },
      "source": [
        "# YOUR CODE HERE"
      ],
      "execution_count": null,
      "outputs": []
    },
    {
      "cell_type": "markdown",
      "metadata": {
        "id": "4Qccff504zlE"
      },
      "source": [
        "❓ **Question** ❓ Evaluate your model on the test set"
      ]
    },
    {
      "cell_type": "code",
      "metadata": {
        "tags": [
          "challengify"
        ],
        "colab": {
          "base_uri": "https://localhost:8080/"
        },
        "id": "0uDR4vBS4zlF",
        "outputId": "1083a51c-4ed1-42d3-a9c3-fec9dd0108d5"
      },
      "source": [
        "model.evaluate(X_test_pad, y_test)"
      ],
      "execution_count": 19,
      "outputs": [
        {
          "output_type": "stream",
          "text": [
            "79/79 [==============================] - 1s 8ms/step - loss: 0.7156 - accuracy: 0.5520\n"
          ],
          "name": "stdout"
        },
        {
          "output_type": "execute_result",
          "data": {
            "text/plain": [
              "[0.7155839204788208, 0.5519999861717224]"
            ]
          },
          "metadata": {
            "tags": []
          },
          "execution_count": 19
        }
      ]
    },
    {
      "cell_type": "markdown",
      "metadata": {
        "id": "ybvMy6xz4zlF"
      },
      "source": [
        "# Trained Word2Vec - Transfer Learning\n",
        "\n",
        "Your accuracy, while above the baseline model, might be quite low. There are multiple options to improve it, as data cleaning and improving the quality of the embedding.\n",
        "\n",
        "We won't dig into data cleaning strategies here. On the other hand, let's try to improve the quality of our embedding. But instead of just loading a larger corpus, why not benefiting from the embedding that other have learnt? Because, the quality of an embedding, i.e. the proximity of the words, can be derived from different tasks. This is exactly what transfer learning is.\n",
        "\n",
        "\n",
        "\n",
        "❓ **Question** ❓ List all the different models available in the word2vec thanks to this : "
      ]
    },
    {
      "cell_type": "code",
      "metadata": {
        "colab": {
          "base_uri": "https://localhost:8080/"
        },
        "id": "kEO4NiU54zlF",
        "outputId": "57a1c748-dbdc-4e38-9134-cb4d0398db71"
      },
      "source": [
        "import gensim.downloader as api\n",
        "print(list(api.info()['models'].keys()))"
      ],
      "execution_count": 20,
      "outputs": [
        {
          "output_type": "stream",
          "text": [
            "['fasttext-wiki-news-subwords-300', 'conceptnet-numberbatch-17-06-300', 'word2vec-ruscorpora-300', 'word2vec-google-news-300', 'glove-wiki-gigaword-50', 'glove-wiki-gigaword-100', 'glove-wiki-gigaword-200', 'glove-wiki-gigaword-300', 'glove-twitter-25', 'glove-twitter-50', 'glove-twitter-100', 'glove-twitter-200', '__testing_word2vec-matrix-synopsis']\n"
          ],
          "name": "stdout"
        }
      ]
    },
    {
      "cell_type": "markdown",
      "metadata": {
        "id": "0h_V7nEZ4zlF"
      },
      "source": [
        "❓ **Question** ❓ Load one of the pre-trained word2vec embedding spaces. \n",
        "\n",
        "You can do that with `api.load(the-model-of-your-choice)`, and store it in `word2vec_transfer`"
      ]
    },
    {
      "cell_type": "code",
      "metadata": {
        "tags": [
          "challengify"
        ],
        "colab": {
          "base_uri": "https://localhost:8080/"
        },
        "id": "MxFRx-rt4zlG",
        "outputId": "14ff9ba2-6a7e-4979-b9fd-2835bb384903"
      },
      "source": [
        "word2vec_transfer = api.load('glove-twitter-200')"
      ],
      "execution_count": 21,
      "outputs": [
        {
          "output_type": "stream",
          "text": [
            "[==================================================] 100.0% 758.5/758.5MB downloaded\n"
          ],
          "name": "stdout"
        }
      ]
    },
    {
      "cell_type": "markdown",
      "metadata": {
        "id": "dQPMA3Jf4zlG"
      },
      "source": [
        "❓ **Question** ❓ Check the size of the vocabulary, but also the size of the embedding space."
      ]
    },
    {
      "cell_type": "code",
      "metadata": {
        "tags": [
          "challengify"
        ],
        "colab": {
          "base_uri": "https://localhost:8080/"
        },
        "id": "niImYbIR4zlG",
        "outputId": "25d4fe96-2ccf-4235-b185-f87a344bbab7"
      },
      "source": [
        "word2vec_transfer.wv.vectors.shape"
      ],
      "execution_count": 23,
      "outputs": [
        {
          "output_type": "stream",
          "text": [
            "/usr/local/lib/python3.7/dist-packages/ipykernel_launcher.py:1: DeprecationWarning: Call to deprecated `wv` (Attribute will be removed in 4.0.0, use self instead).\n",
            "  \"\"\"Entry point for launching an IPython kernel.\n"
          ],
          "name": "stderr"
        },
        {
          "output_type": "execute_result",
          "data": {
            "text/plain": [
              "(1193514, 200)"
            ]
          },
          "metadata": {
            "tags": []
          },
          "execution_count": 23
        }
      ]
    },
    {
      "cell_type": "markdown",
      "metadata": {
        "id": "Gi7omi2s4zlG"
      },
      "source": [
        "❓ **Question** ❓ Let's embedd `X_train` and `X_test`, as in the first question where we provided the functions to so ! (There is a slight different in the `embed_sentence_with_TF` function that we will not dig into)"
      ]
    },
    {
      "cell_type": "code",
      "metadata": {
        "id": "0L6qB_HX4zlH"
      },
      "source": [
        "from tensorflow.keras.preprocessing.sequence import pad_sequences\n",
        "import numpy as np\n",
        "\n",
        "# Function to convert a sentence (list of words) into a matrix representing the words in the embedding space\n",
        "def embed_sentence_with_TF(word2vec, sentence):\n",
        "    embedded_sentence = []\n",
        "    for word in sentence:\n",
        "        if word in word2vec:\n",
        "            embedded_sentence.append(word2vec[word])\n",
        "        \n",
        "    return np.array(embedded_sentence)\n",
        "\n",
        "# Function that converts a list of sentences into a list of matrices\n",
        "def embedding(word2vec, sentences):\n",
        "    embed = []\n",
        "    \n",
        "    for sentence in sentences:\n",
        "        embedded_sentence = embed_sentence_with_TF(word2vec, sentence)\n",
        "        embed.append(embedded_sentence)\n",
        "        \n",
        "    return embed\n",
        "\n",
        "# Embed the training and test sentences\n",
        "X_train_embed_2 = embedding(word2vec_transfer, X_train)\n",
        "X_test_embed_2 = embedding(word2vec_transfer, X_test)"
      ],
      "execution_count": 24,
      "outputs": []
    },
    {
      "cell_type": "markdown",
      "metadata": {
        "id": "lRi_sE7I4zlH"
      },
      "source": [
        "❓ **Question** ❓  Do not forget to pad your results and store it in `X_train_pad_2` and `X_test_pad_2`."
      ]
    },
    {
      "cell_type": "code",
      "metadata": {
        "tags": [
          "challengify"
        ],
        "id": "i64FmWO_4zlI"
      },
      "source": [
        "X_train_pad_2 = pad_sequences(X_train_embed_2, dtype='float32', padding='post', maxlen=200, value=-1000)\n",
        "X_test_pad_2 = pad_sequences(X_test_embed_2, dtype='float32', padding='post', maxlen=200, value=-1000)"
      ],
      "execution_count": 25,
      "outputs": []
    },
    {
      "cell_type": "markdown",
      "metadata": {
        "id": "Vop8WvTn4zlI"
      },
      "source": [
        "❓ **Question** ❓ Reinitialize a model and fit it on your new embedded (and padded) data!  Evaluate it on your test set and compare it to your previous accuracy.\n",
        "\n",
        "❗ **Remark** ❗ The training could take some time here. You can just compute 10 epochs (this is **not** a good practice, it is just not to wait too long) and go to the next exercise while it trains - or take a break, you probably deserve it ;)"
      ]
    },
    {
      "cell_type": "code",
      "metadata": {
        "tags": [
          "challengify"
        ],
        "colab": {
          "base_uri": "https://localhost:8080/"
        },
        "id": "ZC69rQPi4zlI",
        "outputId": "13be005f-d87a-403e-920b-c5fbe5200637"
      },
      "source": [
        "es = EarlyStopping(patience=5, restore_best_weights=True)\n",
        "\n",
        "model = init_model()\n",
        "model.fit(X_train_pad_2, y_train, epochs=20, batch_size=64, validation_split=0.3, callbacks=[es])"
      ],
      "execution_count": 29,
      "outputs": [
        {
          "output_type": "stream",
          "text": [
            "Epoch 1/20\n",
            "28/28 [==============================] - 6s 65ms/step - loss: 0.6860 - accuracy: 0.5404 - val_loss: 0.6994 - val_accuracy: 0.5427\n",
            "Epoch 2/20\n",
            "28/28 [==============================] - 1s 22ms/step - loss: 0.6308 - accuracy: 0.6419 - val_loss: 0.6553 - val_accuracy: 0.5933\n",
            "Epoch 3/20\n",
            "28/28 [==============================] - 1s 23ms/step - loss: 0.5987 - accuracy: 0.6846 - val_loss: 0.6645 - val_accuracy: 0.6227\n",
            "Epoch 4/20\n",
            "28/28 [==============================] - 1s 23ms/step - loss: 0.5656 - accuracy: 0.7191 - val_loss: 0.5650 - val_accuracy: 0.7133\n",
            "Epoch 5/20\n",
            "28/28 [==============================] - 1s 22ms/step - loss: 0.5252 - accuracy: 0.7412 - val_loss: 0.5746 - val_accuracy: 0.7067\n",
            "Epoch 6/20\n",
            "28/28 [==============================] - 1s 23ms/step - loss: 0.5262 - accuracy: 0.7460 - val_loss: 0.9525 - val_accuracy: 0.5027\n",
            "Epoch 7/20\n",
            "28/28 [==============================] - 1s 22ms/step - loss: 0.5881 - accuracy: 0.6998 - val_loss: 0.5233 - val_accuracy: 0.7573\n",
            "Epoch 8/20\n",
            "28/28 [==============================] - 1s 22ms/step - loss: 0.4743 - accuracy: 0.7847 - val_loss: 0.5254 - val_accuracy: 0.7547\n",
            "Epoch 9/20\n",
            "28/28 [==============================] - 1s 23ms/step - loss: 0.4549 - accuracy: 0.7999 - val_loss: 0.5424 - val_accuracy: 0.7360\n",
            "Epoch 10/20\n",
            "28/28 [==============================] - 1s 22ms/step - loss: 0.4242 - accuracy: 0.8059 - val_loss: 0.4902 - val_accuracy: 0.7667\n",
            "Epoch 11/20\n",
            "28/28 [==============================] - 1s 22ms/step - loss: 0.4035 - accuracy: 0.8179 - val_loss: 0.5070 - val_accuracy: 0.7467\n",
            "Epoch 12/20\n",
            "28/28 [==============================] - 1s 22ms/step - loss: 0.3815 - accuracy: 0.8355 - val_loss: 0.5517 - val_accuracy: 0.7387\n",
            "Epoch 13/20\n",
            "28/28 [==============================] - 1s 23ms/step - loss: 0.3861 - accuracy: 0.8349 - val_loss: 0.4989 - val_accuracy: 0.7600\n",
            "Epoch 14/20\n",
            "28/28 [==============================] - 1s 22ms/step - loss: 0.4007 - accuracy: 0.8163 - val_loss: 0.4770 - val_accuracy: 0.7747\n",
            "Epoch 15/20\n",
            "28/28 [==============================] - 1s 22ms/step - loss: 0.3673 - accuracy: 0.8482 - val_loss: 0.4758 - val_accuracy: 0.7787\n",
            "Epoch 16/20\n",
            "28/28 [==============================] - 1s 22ms/step - loss: 0.3653 - accuracy: 0.8460 - val_loss: 0.5353 - val_accuracy: 0.7613\n",
            "Epoch 17/20\n",
            "28/28 [==============================] - 1s 22ms/step - loss: 0.3294 - accuracy: 0.8657 - val_loss: 0.5041 - val_accuracy: 0.7720\n",
            "Epoch 18/20\n",
            "28/28 [==============================] - 1s 23ms/step - loss: 0.3216 - accuracy: 0.8618 - val_loss: 0.4738 - val_accuracy: 0.7947\n",
            "Epoch 19/20\n",
            "28/28 [==============================] - 1s 22ms/step - loss: 0.2921 - accuracy: 0.8782 - val_loss: 0.4906 - val_accuracy: 0.7747\n",
            "Epoch 20/20\n",
            "28/28 [==============================] - 1s 23ms/step - loss: 0.3107 - accuracy: 0.8684 - val_loss: 0.4755 - val_accuracy: 0.7973\n"
          ],
          "name": "stdout"
        },
        {
          "output_type": "execute_result",
          "data": {
            "text/plain": [
              "<tensorflow.python.keras.callbacks.History at 0x7f8cb63a6950>"
            ]
          },
          "metadata": {
            "tags": []
          },
          "execution_count": 29
        }
      ]
    },
    {
      "cell_type": "code",
      "metadata": {
        "colab": {
          "base_uri": "https://localhost:8080/"
        },
        "id": "1hLthvs44zlJ",
        "outputId": "4df511e1-61d1-4351-dfed-d0f4be70315a"
      },
      "source": [
        "res = model.evaluate(X_test_pad_2, y_test, verbose=0)\n",
        "\n",
        "print(f'The accuracy evaluated on the test set is of {res[1]*100:.3f}%')"
      ],
      "execution_count": 30,
      "outputs": [
        {
          "output_type": "stream",
          "text": [
            "The accuracy evaluated on the test set is of 79.240%\n"
          ],
          "name": "stdout"
        }
      ]
    },
    {
      "cell_type": "markdown",
      "metadata": {
        "id": "fMNOVCCS4zlJ"
      },
      "source": [
        "Because your new word2vec has been trained on a large corpus, it has a representation for many many words! Way more than with your small dataset, especially as you discarder words that were not present more than a given number of time in the train set. For that reason, you have way more embedded words in your train and test set, which makes each iteration longer than previously"
      ]
    }
  ]
}